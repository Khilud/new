{
 "cells": [
  {
   "cell_type": "markdown",
   "id": "b246b6ac",
   "metadata": {},
   "source": [
    "## A.I. Assignment 4\n",
    "\n",
    "## Learning Goals\n",
    "\n",
    "By the end of this lab, you should be able to:\n",
    "* Get familiar with tensors in pytorch\n",
    "* Get familiar with the activation functions for ANN \n",
    "* Create a simple perceptron model with pytorch\n",
    "\n"
   ]
  },
  {
   "cell_type": "markdown",
   "id": "8247d8bb",
   "metadata": {},
   "source": [
    "## Common activation functions for ANN:\n",
    "\n",
    "##### Sigmoid:\n",
    "\n",
    "The sigmoid function is a popular choice for activation functions in neural networks. It has an $S-shaped$ curve:\n",
    "$$f(x) = \\frac{1}{1+e^{-x}}.$$\n",
    "\n",
    "It has a number of appealing qualities:\n",
    "\n",
    "1. *Nonlinearity*: Because the sigmoid function is nonlinear, it enables the neural network to simulate nonlinear interactions between inputs and outputs. A neural network would simply be a linear model without a nonlinear activation function like sigmoid, which would significantly restrict its capacity to describe complex relationships.\n",
    "\n",
    "1. *Smoothness*: As the sigmoid function is differentiable and smooth, its derivative exist at every point. This is significant because it makes it possible for neural network training techniques based on gradients (such as backpropagation) to perform well.\n",
    "\n",
    "1. *Boundedness*: The sigmoid function is bounded between 0 and 1, it means  its outputs can be interpreted as probabilities.  It is most useful in applications like binary classification, where the goal is to predict whether an input belongs to one of two classes.\n",
    "\n",
    "1. *Monotonicity*: The sigmoid function is monotonic, which means that its outputs are always increasing or always decreasing with respect to its inputs. This makes it easy to interpret the effect of changes in input variables on the output of the network.\n",
    "\n",
    "##### ReLU (Rectified Linear Unit):\n",
    "\n",
    "The ReLU function is defined as $$f(x) = max(0, x).$$\n",
    "\n",
    "It is a widely used activation function in deep learning due to its simplicity and effectiveness.\n",
    "\n",
    "##### Tanh (Hyperbolic Tangent):\n",
    "\n",
    "The $\\tanh$ function is similar to the sigmoid function but produces outputs in the interval $[-1, 1]$:  \n",
    "$$f(x) = \\frac{e^{x}-e^{-x}}{e^{x}+e^{-x}}.$$\n",
    "\n",
    "##### Softmax:\n",
    "\n",
    "The softmax function is commonly used in the output layer of a neural network for multi-class classification problems. It normalizes the output into a probability distribution over the classes.\n",
    "\n",
    "Given a vector $\\vec{z}$ of $n$ real numbers, the softmax function calculates a vector $\\vec{s}$ of $n$ real numbers with the components:\n",
    "$$s_j = \\frac{e^{z_j}}{\\sum_{k=1}^{n} {e^{z_k}}}.$$\n",
    "\n",
    "\n",
    "##### Leaky ReLU:\n",
    "\n",
    "The Leaky ReLU is a variation of the ReLU function that introduces a small non-zero gradient for negative inputs. It is defined as \n",
    "$$f(x) = max(0.01 \\cdot x, x).$$\n",
    "\n",
    "##### ELU (Exponential Linear Unit):\n",
    "\n",
    "The ELU function is another variation of the ReLU function that introduces a small negative saturation value for negative inputs. It is defined as \n",
    "\n",
    "$$ f(x) = \\biggl\\{ \\begin{matrix} x, & for & x > 0 \\\\\n",
    "                      \\alpha \\cdot (e^{x} - 1), & for & x \\leq 0 \\end{matrix}$$\n",
    "where $\\alpha$ is a hyperparameter.\n",
    "\n",
    "##### Swish:\n",
    "\n",
    "The Swish function is a recent activation function that is a smooth approximation of the ReLU function. It is defined as f(x) = x * sigmoid(x)."
   ]
  },
  {
   "cell_type": "code",
   "execution_count": 1,
   "id": "68931328",
   "metadata": {},
   "outputs": [
    {
     "data": {
      "text/plain": [
       "False"
      ]
     },
     "execution_count": 1,
     "metadata": {},
     "output_type": "execute_result"
    }
   ],
   "source": [
    "import torch\n",
    "torch.cuda.is_available()"
   ]
  },
  {
   "cell_type": "markdown",
   "id": "93017ce5",
   "metadata": {},
   "source": [
    "create a tensor with requires_grad=True to tell PyTorch to track gradients for this tensor:"
   ]
  },
  {
   "cell_type": "code",
   "execution_count": 2,
   "id": "a14b6a39",
   "metadata": {},
   "outputs": [
    {
     "name": "stdout",
     "output_type": "stream",
     "text": [
      "tensor([2.], requires_grad=True)\n"
     ]
    }
   ],
   "source": [
    "x = torch.tensor([2.0], requires_grad=True)\n",
    "print(x)"
   ]
  },
  {
   "cell_type": "markdown",
   "id": "56340210",
   "metadata": {},
   "source": [
    "You can perform any operations on this tensor as usual:"
   ]
  },
  {
   "cell_type": "code",
   "execution_count": 3,
   "id": "99cb5a71",
   "metadata": {},
   "outputs": [
    {
     "name": "stdout",
     "output_type": "stream",
     "text": [
      "tensor([9.], grad_fn=<AddBackward0>)\n"
     ]
    }
   ],
   "source": [
    "y = x ** 2 + 2 * x + 1\n",
    "print(y)"
   ]
  },
  {
   "cell_type": "markdown",
   "id": "af8a18dc",
   "metadata": {},
   "source": [
    "To compute the gradients of y with respect to x, you need to call backward() on y:"
   ]
  },
  {
   "cell_type": "code",
   "execution_count": 4,
   "id": "8c244acf",
   "metadata": {},
   "outputs": [],
   "source": [
    "y.backward()"
   ]
  },
  {
   "cell_type": "code",
   "execution_count": 5,
   "id": "0e9b7e33",
   "metadata": {},
   "outputs": [
    {
     "data": {
      "text/plain": [
       "tensor([6.])"
      ]
     },
     "execution_count": 5,
     "metadata": {},
     "output_type": "execute_result"
    }
   ],
   "source": [
    "x.grad"
   ]
  },
  {
   "cell_type": "code",
   "execution_count": 6,
   "id": "87ce525b",
   "metadata": {},
   "outputs": [
    {
     "name": "stdout",
     "output_type": "stream",
     "text": [
      "tensor([1., 1., 1.])\n"
     ]
    }
   ],
   "source": [
    "import torch\n",
    "\n",
    "# Create a tensor with requires_grad=True\n",
    "x = torch.tensor([1., 2., 3.], requires_grad=True)\n",
    "\n",
    "# Compute a function of x\n",
    "y = x.sum()\n",
    "\n",
    "# Compute gradients of y with respect to x\n",
    "y.backward()\n",
    "\n",
    "# Print gradients of x\n",
    "print(x.grad)\n"
   ]
  },
  {
   "cell_type": "markdown",
   "id": "30804b8c",
   "metadata": {},
   "source": [
    "Exercise 1.\n",
    "\n",
    "Compute the gradient for the sigmoid activation function in 2 points using pytorch and check it with the known explicit formula "
   ]
  },
  {
   "cell_type": "code",
   "execution_count": 8,
   "id": "2dc94902",
   "metadata": {},
   "outputs": [
    {
     "name": "stdout",
     "output_type": "stream",
     "text": [
      "Gradient at x=2: tensor(1.)\n",
      "Gradient at x=-1: tensor(1.)\n"
     ]
    }
   ],
   "source": [
    "# your code here\n",
    "x1 = torch.tensor(2.0, requires_grad=True)\n",
    "y1 = x1\n",
    "y1.backward()\n",
    "print('Gradient at x=2:', x1.grad)\n",
    "\n",
    "x2 = torch.tensor(-1.0, requires_grad=True)\n",
    "y2 = x2\n",
    "y2.backward()\n",
    "print('Gradient at x=-1:', x2.grad)"
   ]
  },
  {
   "cell_type": "markdown",
   "id": "7e77a45c",
   "metadata": {},
   "source": [
    "Exercise 2.\n",
    "\n",
    "Compute the gradient for the linear activation function in 2 points using pytorch and check it with the known explicit formula"
   ]
  },
  {
   "cell_type": "code",
   "execution_count": 9,
   "id": "7054039e",
   "metadata": {},
   "outputs": [
    {
     "name": "stdout",
     "output_type": "stream",
     "text": [
      "Gradient at x=2: tensor(1.)\n",
      "Gradient at x=-1: tensor(0.)\n"
     ]
    }
   ],
   "source": [
    "# your code here\n",
    "x1 = torch.tensor(2.0, requires_grad=True)\n",
    "y1 = torch.relu(x1)\n",
    "y1.backward()\n",
    "print('Gradient at x=2:', x1.grad)\n",
    "\n",
    "x2 = torch.tensor(-1.0, requires_grad=True)\n",
    "y2 = torch.relu(x2)\n",
    "y2.backward()\n",
    "print('Gradient at x=-1:', x2.grad)"
   ]
  },
  {
   "cell_type": "markdown",
   "id": "dab117e3",
   "metadata": {},
   "source": [
    "Execise 3.\n",
    "\n",
    "Compute the gradient for the relu activation function in 2 points using pytorch and check it with the known explicit formula."
   ]
  },
  {
   "cell_type": "code",
   "execution_count": 11,
   "id": "1f69f4c5",
   "metadata": {},
   "outputs": [
    {
     "name": "stdout",
     "output_type": "stream",
     "text": [
      "Gradient at x=2: tensor(1.)\n",
      "Gradient at x=-1: tensor(0.)\n"
     ]
    }
   ],
   "source": [
    "# your code here\n",
    "x1 = torch.tensor(2.0, requires_grad=True)\n",
    "y1 = torch.relu(x1)\n",
    "y1.backward()\n",
    "print('Gradient at x=2:', x1.grad)\n",
    "\n",
    "x2 = torch.tensor(-1.0, requires_grad=True)\n",
    "y2 = torch.relu(x2)\n",
    "y2.backward()\n",
    "print('Gradient at x=-1:', x2.grad)"
   ]
  },
  {
   "cell_type": "markdown",
   "id": "ef985f68",
   "metadata": {},
   "source": [
    "Exercise 4. \n",
    "\n",
    "Write in python a function to plot the sigmoid activation function and its gradient using matplotlib"
   ]
  },
  {
   "cell_type": "code",
   "execution_count": 17,
   "id": "6c645aaf",
   "metadata": {},
   "outputs": [
    {
     "data": {
      "image/png": "[encoded data removed]",
      "text/plain": [
       "<Figure size 640x480 with 1 Axes>"
      ]
     },
     "metadata": {},
     "output_type": "display_data"
    }
   ],
   "source": [
    "# your code here\n",
    "import numpy as np\n",
    "import matplotlib.pyplot as plt\n",
    "\n",
    "def np_sigmoid(x):\n",
    "    return 1 / (1 + np.exp(-x))\n",
    "\n",
    "def sigmoid_grad(x):\n",
    "    return np_sigmoid(x) * (1 - np_sigmoid(x))\n",
    "\n",
    "x = np.linspace(-10, 10, 1000)\n",
    "\n",
    "y = np_sigmoid(x)\n",
    "grad = sigmoid_grad(x)\n",
    "\n",
    "plt.plot(x, y)\n",
    "plt.plot(x, grad)\n",
    "plt.show()"
   ]
  },
  {
   "cell_type": "markdown",
   "id": "51202a51",
   "metadata": {},
   "source": [
    "Exercise 5. \n",
    "\n",
    "Write in python a function to plot the ReLU activation function and its gradient using matplotlib."
   ]
  },
  {
   "cell_type": "code",
   "execution_count": 18,
   "id": "99e49c47",
   "metadata": {},
   "outputs": [
    {
     "name": "stdout",
     "output_type": "stream",
     "text": [
      "[-10.          -9.97997998  -9.95995996  -9.93993994  -9.91991992\n",
      "  -9.8998999   -9.87987988  -9.85985986  -9.83983984  -9.81981982\n",
      "  -9.7997998   -9.77977978  -9.75975976  -9.73973974  -9.71971972\n",
      "  -9.6996997   -9.67967968  -9.65965966  -9.63963964  -9.61961962\n",
      "  -9.5995996   -9.57957958  -9.55955956  -9.53953954  -9.51951952\n",
      "  -9.4994995   -9.47947948  -9.45945946  -9.43943944  -9.41941942\n",
      "  -9.3993994   -9.37937938  -9.35935936  -9.33933934  -9.31931932\n",
      "  -9.2992993   -9.27927928  -9.25925926  -9.23923924  -9.21921922\n",
      "  -9.1991992   -9.17917918  -9.15915916  -9.13913914  -9.11911912\n",
      "  -9.0990991   -9.07907908  -9.05905906  -9.03903904  -9.01901902\n",
      "  -8.998999    -8.97897898  -8.95895896  -8.93893894  -8.91891892\n",
      "  -8.8988989   -8.87887888  -8.85885886  -8.83883884  -8.81881882\n",
      "  -8.7987988   -8.77877878  -8.75875876  -8.73873874  -8.71871872\n",
      "  -8.6986987   -8.67867868  -8.65865866  -8.63863864  -8.61861862\n",
      "  -8.5985986   -8.57857858  -8.55855856  -8.53853854  -8.51851852\n",
      "  -8.4984985   -8.47847848  -8.45845846  -8.43843844  -8.41841842\n",
      "  -8.3983984   -8.37837838  -8.35835836  -8.33833834  -8.31831832\n",
      "  -8.2982983   -8.27827828  -8.25825826  -8.23823824  -8.21821822\n",
      "  -8.1981982   -8.17817818  -8.15815816  -8.13813814  -8.11811812\n",
      "  -8.0980981   -8.07807808  -8.05805806  -8.03803804  -8.01801802\n",
      "  -7.997998    -7.97797798  -7.95795796  -7.93793794  -7.91791792\n",
      "  -7.8978979   -7.87787788  -7.85785786  -7.83783784  -7.81781782\n",
      "  -7.7977978   -7.77777778  -7.75775776  -7.73773774  -7.71771772\n",
      "  -7.6976977   -7.67767768  -7.65765766  -7.63763764  -7.61761762\n",
      "  -7.5975976   -7.57757758  -7.55755756  -7.53753754  -7.51751752\n",
      "  -7.4974975   -7.47747748  -7.45745746  -7.43743744  -7.41741742\n",
      "  -7.3973974   -7.37737738  -7.35735736  -7.33733734  -7.31731732\n",
      "  -7.2972973   -7.27727728  -7.25725726  -7.23723724  -7.21721722\n",
      "  -7.1971972   -7.17717718  -7.15715716  -7.13713714  -7.11711712\n",
      "  -7.0970971   -7.07707708  -7.05705706  -7.03703704  -7.01701702\n",
      "  -6.996997    -6.97697698  -6.95695696  -6.93693694  -6.91691692\n",
      "  -6.8968969   -6.87687688  -6.85685686  -6.83683684  -6.81681682\n",
      "  -6.7967968   -6.77677678  -6.75675676  -6.73673674  -6.71671672\n",
      "  -6.6966967   -6.67667668  -6.65665666  -6.63663664  -6.61661662\n",
      "  -6.5965966   -6.57657658  -6.55655656  -6.53653654  -6.51651652\n",
      "  -6.4964965   -6.47647648  -6.45645646  -6.43643644  -6.41641642\n",
      "  -6.3963964   -6.37637638  -6.35635636  -6.33633634  -6.31631632\n",
      "  -6.2962963   -6.27627628  -6.25625626  -6.23623624  -6.21621622\n",
      "  -6.1961962   -6.17617618  -6.15615616  -6.13613614  -6.11611612\n",
      "  -6.0960961   -6.07607608  -6.05605606  -6.03603604  -6.01601602\n",
      "  -5.995996    -5.97597598  -5.95595596  -5.93593594  -5.91591592\n",
      "  -5.8958959   -5.87587588  -5.85585586  -5.83583584  -5.81581582\n",
      "  -5.7957958   -5.77577578  -5.75575576  -5.73573574  -5.71571572\n",
      "  -5.6956957   -5.67567568  -5.65565566  -5.63563564  -5.61561562\n",
      "  -5.5955956   -5.57557558  -5.55555556  -5.53553554  -5.51551552\n",
      "  -5.4954955   -5.47547548  -5.45545546  -5.43543544  -5.41541542\n",
      "  -5.3953954   -5.37537538  -5.35535536  -5.33533534  -5.31531532\n",
      "  -5.2952953   -5.27527528  -5.25525526  -5.23523524  -5.21521522\n",
      "  -5.1951952   -5.17517518  -5.15515516  -5.13513514  -5.11511512\n",
      "  -5.0950951   -5.07507508  -5.05505506  -5.03503504  -5.01501502\n",
      "  -4.99499499  -4.97497497  -4.95495495  -4.93493493  -4.91491491\n",
      "  -4.89489489  -4.87487487  -4.85485485  -4.83483483  -4.81481481\n",
      "  -4.79479479  -4.77477477  -4.75475475  -4.73473473  -4.71471471\n",
      "  -4.69469469  -4.67467467  -4.65465465  -4.63463463  -4.61461461\n",
      "  -4.59459459  -4.57457457  -4.55455455  -4.53453453  -4.51451451\n",
      "  -4.49449449  -4.47447447  -4.45445445  -4.43443443  -4.41441441\n",
      "  -4.39439439  -4.37437437  -4.35435435  -4.33433433  -4.31431431\n",
      "  -4.29429429  -4.27427427  -4.25425425  -4.23423423  -4.21421421\n",
      "  -4.19419419  -4.17417417  -4.15415415  -4.13413413  -4.11411411\n",
      "  -4.09409409  -4.07407407  -4.05405405  -4.03403403  -4.01401401\n",
      "  -3.99399399  -3.97397397  -3.95395395  -3.93393393  -3.91391391\n",
      "  -3.89389389  -3.87387387  -3.85385385  -3.83383383  -3.81381381\n",
      "  -3.79379379  -3.77377377  -3.75375375  -3.73373373  -3.71371371\n",
      "  -3.69369369  -3.67367367  -3.65365365  -3.63363363  -3.61361361\n",
      "  -3.59359359  -3.57357357  -3.55355355  -3.53353353  -3.51351351\n",
      "  -3.49349349  -3.47347347  -3.45345345  -3.43343343  -3.41341341\n",
      "  -3.39339339  -3.37337337  -3.35335335  -3.33333333  -3.31331331\n",
      "  -3.29329329  -3.27327327  -3.25325325  -3.23323323  -3.21321321\n",
      "  -3.19319319  -3.17317317  -3.15315315  -3.13313313  -3.11311311\n",
      "  -3.09309309  -3.07307307  -3.05305305  -3.03303303  -3.01301301\n",
      "  -2.99299299  -2.97297297  -2.95295295  -2.93293293  -2.91291291\n",
      "  -2.89289289  -2.87287287  -2.85285285  -2.83283283  -2.81281281\n",
      "  -2.79279279  -2.77277277  -2.75275275  -2.73273273  -2.71271271\n",
      "  -2.69269269  -2.67267267  -2.65265265  -2.63263263  -2.61261261\n",
      "  -2.59259259  -2.57257257  -2.55255255  -2.53253253  -2.51251251\n",
      "  -2.49249249  -2.47247247  -2.45245245  -2.43243243  -2.41241241\n",
      "  -2.39239239  -2.37237237  -2.35235235  -2.33233233  -2.31231231\n",
      "  -2.29229229  -2.27227227  -2.25225225  -2.23223223  -2.21221221\n",
      "  -2.19219219  -2.17217217  -2.15215215  -2.13213213  -2.11211211\n",
      "  -2.09209209  -2.07207207  -2.05205205  -2.03203203  -2.01201201\n",
      "  -1.99199199  -1.97197197  -1.95195195  -1.93193193  -1.91191191\n",
      "  -1.89189189  -1.87187187  -1.85185185  -1.83183183  -1.81181181\n",
      "  -1.79179179  -1.77177177  -1.75175175  -1.73173173  -1.71171171\n",
      "  -1.69169169  -1.67167167  -1.65165165  -1.63163163  -1.61161161\n",
      "  -1.59159159  -1.57157157  -1.55155155  -1.53153153  -1.51151151\n",
      "  -1.49149149  -1.47147147  -1.45145145  -1.43143143  -1.41141141\n",
      "  -1.39139139  -1.37137137  -1.35135135  -1.33133133  -1.31131131\n",
      "  -1.29129129  -1.27127127  -1.25125125  -1.23123123  -1.21121121\n",
      "  -1.19119119  -1.17117117  -1.15115115  -1.13113113  -1.11111111\n",
      "  -1.09109109  -1.07107107  -1.05105105  -1.03103103  -1.01101101\n",
      "  -0.99099099  -0.97097097  -0.95095095  -0.93093093  -0.91091091\n",
      "  -0.89089089  -0.87087087  -0.85085085  -0.83083083  -0.81081081\n",
      "  -0.79079079  -0.77077077  -0.75075075  -0.73073073  -0.71071071\n",
      "  -0.69069069  -0.67067067  -0.65065065  -0.63063063  -0.61061061\n",
      "  -0.59059059  -0.57057057  -0.55055055  -0.53053053  -0.51051051\n",
      "  -0.49049049  -0.47047047  -0.45045045  -0.43043043  -0.41041041\n",
      "  -0.39039039  -0.37037037  -0.35035035  -0.33033033  -0.31031031\n",
      "  -0.29029029  -0.27027027  -0.25025025  -0.23023023  -0.21021021\n",
      "  -0.19019019  -0.17017017  -0.15015015  -0.13013013  -0.11011011\n",
      "  -0.09009009  -0.07007007  -0.05005005  -0.03003003  -0.01001001\n",
      "   0.01001001   0.03003003   0.05005005   0.07007007   0.09009009\n",
      "   0.11011011   0.13013013   0.15015015   0.17017017   0.19019019\n",
      "   0.21021021   0.23023023   0.25025025   0.27027027   0.29029029\n",
      "   0.31031031   0.33033033   0.35035035   0.37037037   0.39039039\n",
      "   0.41041041   0.43043043   0.45045045   0.47047047   0.49049049\n",
      "   0.51051051   0.53053053   0.55055055   0.57057057   0.59059059\n",
      "   0.61061061   0.63063063   0.65065065   0.67067067   0.69069069\n",
      "   0.71071071   0.73073073   0.75075075   0.77077077   0.79079079\n",
      "   0.81081081   0.83083083   0.85085085   0.87087087   0.89089089\n",
      "   0.91091091   0.93093093   0.95095095   0.97097097   0.99099099\n",
      "   1.01101101   1.03103103   1.05105105   1.07107107   1.09109109\n",
      "   1.11111111   1.13113113   1.15115115   1.17117117   1.19119119\n",
      "   1.21121121   1.23123123   1.25125125   1.27127127   1.29129129\n",
      "   1.31131131   1.33133133   1.35135135   1.37137137   1.39139139\n",
      "   1.41141141   1.43143143   1.45145145   1.47147147   1.49149149\n",
      "   1.51151151   1.53153153   1.55155155   1.57157157   1.59159159\n",
      "   1.61161161   1.63163163   1.65165165   1.67167167   1.69169169\n",
      "   1.71171171   1.73173173   1.75175175   1.77177177   1.79179179\n",
      "   1.81181181   1.83183183   1.85185185   1.87187187   1.89189189\n",
      "   1.91191191   1.93193193   1.95195195   1.97197197   1.99199199\n",
      "   2.01201201   2.03203203   2.05205205   2.07207207   2.09209209\n",
      "   2.11211211   2.13213213   2.15215215   2.17217217   2.19219219\n",
      "   2.21221221   2.23223223   2.25225225   2.27227227   2.29229229\n",
      "   2.31231231   2.33233233   2.35235235   2.37237237   2.39239239\n",
      "   2.41241241   2.43243243   2.45245245   2.47247247   2.49249249\n",
      "   2.51251251   2.53253253   2.55255255   2.57257257   2.59259259\n",
      "   2.61261261   2.63263263   2.65265265   2.67267267   2.69269269\n",
      "   2.71271271   2.73273273   2.75275275   2.77277277   2.79279279\n",
      "   2.81281281   2.83283283   2.85285285   2.87287287   2.89289289\n",
      "   2.91291291   2.93293293   2.95295295   2.97297297   2.99299299\n",
      "   3.01301301   3.03303303   3.05305305   3.07307307   3.09309309\n",
      "   3.11311311   3.13313313   3.15315315   3.17317317   3.19319319\n",
      "   3.21321321   3.23323323   3.25325325   3.27327327   3.29329329\n",
      "   3.31331331   3.33333333   3.35335335   3.37337337   3.39339339\n",
      "   3.41341341   3.43343343   3.45345345   3.47347347   3.49349349\n",
      "   3.51351351   3.53353353   3.55355355   3.57357357   3.59359359\n",
      "   3.61361361   3.63363363   3.65365365   3.67367367   3.69369369\n",
      "   3.71371371   3.73373373   3.75375375   3.77377377   3.79379379\n",
      "   3.81381381   3.83383383   3.85385385   3.87387387   3.89389389\n",
      "   3.91391391   3.93393393   3.95395395   3.97397397   3.99399399\n",
      "   4.01401401   4.03403403   4.05405405   4.07407407   4.09409409\n",
      "   4.11411411   4.13413413   4.15415415   4.17417417   4.19419419\n",
      "   4.21421421   4.23423423   4.25425425   4.27427427   4.29429429\n",
      "   4.31431431   4.33433433   4.35435435   4.37437437   4.39439439\n",
      "   4.41441441   4.43443443   4.45445445   4.47447447   4.49449449\n",
      "   4.51451451   4.53453453   4.55455455   4.57457457   4.59459459\n",
      "   4.61461461   4.63463463   4.65465465   4.67467467   4.69469469\n",
      "   4.71471471   4.73473473   4.75475475   4.77477477   4.79479479\n",
      "   4.81481481   4.83483483   4.85485485   4.87487487   4.89489489\n",
      "   4.91491491   4.93493493   4.95495495   4.97497497   4.99499499\n",
      "   5.01501502   5.03503504   5.05505506   5.07507508   5.0950951\n",
      "   5.11511512   5.13513514   5.15515516   5.17517518   5.1951952\n",
      "   5.21521522   5.23523524   5.25525526   5.27527528   5.2952953\n",
      "   5.31531532   5.33533534   5.35535536   5.37537538   5.3953954\n",
      "   5.41541542   5.43543544   5.45545546   5.47547548   5.4954955\n",
      "   5.51551552   5.53553554   5.55555556   5.57557558   5.5955956\n",
      "   5.61561562   5.63563564   5.65565566   5.67567568   5.6956957\n",
      "   5.71571572   5.73573574   5.75575576   5.77577578   5.7957958\n",
      "   5.81581582   5.83583584   5.85585586   5.87587588   5.8958959\n",
      "   5.91591592   5.93593594   5.95595596   5.97597598   5.995996\n",
      "   6.01601602   6.03603604   6.05605606   6.07607608   6.0960961\n",
      "   6.11611612   6.13613614   6.15615616   6.17617618   6.1961962\n",
      "   6.21621622   6.23623624   6.25625626   6.27627628   6.2962963\n",
      "   6.31631632   6.33633634   6.35635636   6.37637638   6.3963964\n",
      "   6.41641642   6.43643644   6.45645646   6.47647648   6.4964965\n",
      "   6.51651652   6.53653654   6.55655656   6.57657658   6.5965966\n",
      "   6.61661662   6.63663664   6.65665666   6.67667668   6.6966967\n",
      "   6.71671672   6.73673674   6.75675676   6.77677678   6.7967968\n",
      "   6.81681682   6.83683684   6.85685686   6.87687688   6.8968969\n",
      "   6.91691692   6.93693694   6.95695696   6.97697698   6.996997\n",
      "   7.01701702   7.03703704   7.05705706   7.07707708   7.0970971\n",
      "   7.11711712   7.13713714   7.15715716   7.17717718   7.1971972\n",
      "   7.21721722   7.23723724   7.25725726   7.27727728   7.2972973\n",
      "   7.31731732   7.33733734   7.35735736   7.37737738   7.3973974\n",
      "   7.41741742   7.43743744   7.45745746   7.47747748   7.4974975\n",
      "   7.51751752   7.53753754   7.55755756   7.57757758   7.5975976\n",
      "   7.61761762   7.63763764   7.65765766   7.67767768   7.6976977\n",
      "   7.71771772   7.73773774   7.75775776   7.77777778   7.7977978\n",
      "   7.81781782   7.83783784   7.85785786   7.87787788   7.8978979\n",
      "   7.91791792   7.93793794   7.95795796   7.97797798   7.997998\n",
      "   8.01801802   8.03803804   8.05805806   8.07807808   8.0980981\n",
      "   8.11811812   8.13813814   8.15815816   8.17817818   8.1981982\n",
      "   8.21821822   8.23823824   8.25825826   8.27827828   8.2982983\n",
      "   8.31831832   8.33833834   8.35835836   8.37837838   8.3983984\n",
      "   8.41841842   8.43843844   8.45845846   8.47847848   8.4984985\n",
      "   8.51851852   8.53853854   8.55855856   8.57857858   8.5985986\n",
      "   8.61861862   8.63863864   8.65865866   8.67867868   8.6986987\n",
      "   8.71871872   8.73873874   8.75875876   8.77877878   8.7987988\n",
      "   8.81881882   8.83883884   8.85885886   8.87887888   8.8988989\n",
      "   8.91891892   8.93893894   8.95895896   8.97897898   8.998999\n",
      "   9.01901902   9.03903904   9.05905906   9.07907908   9.0990991\n",
      "   9.11911912   9.13913914   9.15915916   9.17917918   9.1991992\n",
      "   9.21921922   9.23923924   9.25925926   9.27927928   9.2992993\n",
      "   9.31931932   9.33933934   9.35935936   9.37937938   9.3993994\n",
      "   9.41941942   9.43943944   9.45945946   9.47947948   9.4994995\n",
      "   9.51951952   9.53953954   9.55955956   9.57957958   9.5995996\n",
      "   9.61961962   9.63963964   9.65965966   9.67967968   9.6996997\n",
      "   9.71971972   9.73973974   9.75975976   9.77977978   9.7997998\n",
      "   9.81981982   9.83983984   9.85985986   9.87987988   9.8998999\n",
      "   9.91991992   9.93993994   9.95995996   9.97997998  10.        ]\n"
     ]
    },
    {
     "data": {
      "image/png": "[encoded data removed]",
      "text/plain": [
       "<Figure size 640x480 with 1 Axes>"
      ]
     },
     "metadata": {},
     "output_type": "display_data"
    }
   ],
   "source": [
    "# your code here\n",
    "def relu(x):\n",
    "    return np.maximum(0, x)\n",
    "\n",
    "def relu_grad(x):\n",
    "    return np.where(x >= 0, 1, 0)\n",
    "\n",
    "x = np.linspace(-10, 10, 1000)\n",
    "print(x)\n",
    "\n",
    "y = relu(x)\n",
    "grad = relu_grad(x)\n",
    "\n",
    "plt.plot(x, y)\n",
    "plt.plot(x, grad)\n",
    "plt.show()"
   ]
  },
  {
   "cell_type": "markdown",
   "id": "c81684ff",
   "metadata": {},
   "source": [
    "Exercise 6. \n",
    "\n",
    "Write in python a function to plot the tanh activation function and its gradient using matplotlib."
   ]
  },
  {
   "cell_type": "code",
   "execution_count": 19,
   "id": "559d421d",
   "metadata": {},
   "outputs": [
    {
     "data": {
      "image/png": "[encoded data removed]",
      "text/plain": [
       "<Figure size 640x480 with 1 Axes>"
      ]
     },
     "metadata": {},
     "output_type": "display_data"
    }
   ],
   "source": [
    "# your code here\n",
    "def tanh(x):\n",
    "    return np.tanh(x)\n",
    "\n",
    "def tanh_grad(x):\n",
    "    return 1 - np.tanh(x)**2\n",
    "\n",
    "x = np.linspace(-10, 10, 1000)\n",
    "\n",
    "y = tanh(x)\n",
    "grad = tanh_grad(x)\n",
    "\n",
    "plt.plot(x, y)\n",
    "plt.plot(x, grad)\n",
    "plt.show()"
   ]
  },
  {
   "cell_type": "markdown",
   "id": "8740a0a8",
   "metadata": {},
   "source": [
    "Exercise 7. \n",
    "\n",
    "Write in python a function to plot the leaky ReLU activation function and its gradient using matplotlib."
   ]
  },
  {
   "cell_type": "code",
   "execution_count": 20,
   "id": "7b455646",
   "metadata": {},
   "outputs": [
    {
     "data": {
      "image/png": "[encoded data removed]",
      "text/plain": [
       "<Figure size 640x480 with 1 Axes>"
      ]
     },
     "metadata": {},
     "output_type": "display_data"
    }
   ],
   "source": [
    "# your code here\n",
    "import numpy as np\n",
    "import matplotlib.pyplot as plt\n",
    "\n",
    "def leaky_relu(x, alpha=0.1):\n",
    "    return np.maximum(alpha*x, x)\n",
    "\n",
    "def leaky_relu_grad(x, alpha=0.1):\n",
    "    dx = np.ones_like(x)\n",
    "    dx[x < 0] = alpha\n",
    "    return dx\n",
    "\n",
    "x = np.linspace(-10, 10, 1000)\n",
    "\n",
    "y = leaky_relu(x)\n",
    "grad = leaky_relu_grad(x)\n",
    "\n",
    "plt.plot(x, y)\n",
    "plt.plot(x, grad)\n",
    "plt.show()"
   ]
  },
  {
   "cell_type": "markdown",
   "id": "4e33119c",
   "metadata": {},
   "source": [
    "## Perceptron\n",
    "\n",
    "We define a class called *Perceptron* that inherits from *torch.nn.Module*. \n",
    "\n",
    "In the constructor, we define a single fully-connected linear layer with $input_dim$ inputs and $output_dim$ outputs, and a $sigmoid$ activation function. In the forward method, we apply the linear transformation to the input $x$, and then apply the sigmoid activation function to the output.\n",
    "\n"
   ]
  },
  {
   "cell_type": "code",
   "execution_count": 21,
   "id": "aa86d7c0",
   "metadata": {},
   "outputs": [],
   "source": [
    "import torch\n",
    "import torch.nn as nn\n",
    "\n",
    "input_size = 2\n",
    "output_size = 1\n",
    "\n",
    "class Perceptron(torch.nn.Module):\n",
    "    def __init__(self, input_dim, output_dim):\n",
    "        super(Perceptron, self).__init__()\n",
    "        self.linear = torch.nn.Linear(input_dim, output_dim)\n",
    "        self.activation = torch.nn.Sigmoid()\n",
    "        \n",
    "    def forward(self, x):\n",
    "        x = self.linear(x)\n",
    "        x = self.activation(x)\n",
    "        return x\n"
   ]
  },
  {
   "cell_type": "markdown",
   "id": "a178820e",
   "metadata": {},
   "source": [
    " We create an instance of this model and use it to make predictions like this:"
   ]
  },
  {
   "cell_type": "code",
   "execution_count": 22,
   "id": "78513e21",
   "metadata": {},
   "outputs": [
    {
     "name": "stdout",
     "output_type": "stream",
     "text": [
      "tensor([0.5046], grad_fn=<SigmoidBackward0>)\n"
     ]
    }
   ],
   "source": [
    "perceptron = Perceptron(input_size, output_size)\n",
    "x = torch.tensor([0.5, 0.2])\n",
    "y = perceptron(x)\n",
    "print(y)\n"
   ]
  },
  {
   "cell_type": "code",
   "execution_count": 23,
   "id": "54070b51",
   "metadata": {},
   "outputs": [
    {
     "name": "stdout",
     "output_type": "stream",
     "text": [
      "Epoch [100/1000], Loss: 0.2658\n",
      "Epoch [200/1000], Loss: 0.2100\n",
      "Epoch [300/1000], Loss: 0.1850\n",
      "Epoch [400/1000], Loss: 0.1700\n",
      "Epoch [500/1000], Loss: 0.1596\n",
      "Epoch [600/1000], Loss: 0.1518\n",
      "Epoch [700/1000], Loss: 0.1456\n",
      "Epoch [800/1000], Loss: 0.1406\n",
      "Epoch [900/1000], Loss: 0.1362\n",
      "Epoch [1000/1000], Loss: 0.1325\n"
     ]
    }
   ],
   "source": [
    "\n",
    "# Define the loss function and optimizer\n",
    "criterion = nn.BCELoss()  # Binary cross-entropy loss\n",
    "optimizer = torch.optim.SGD(perceptron.parameters(), lr=0.1)  # Stochastic gradient descent optimizer\n",
    "\n",
    "# Generate some random input data and labels\n",
    "input_data = torch.randn((10, input_size))\n",
    "labels = torch.randint(0, 2, (10, output_size)).float()\n",
    "\n",
    "# Train the model\n",
    "num_epochs = 1000\n",
    "for epoch in range(num_epochs):\n",
    "    # Forward pass\n",
    "    outputs = perceptron(input_data)\n",
    "    loss = criterion(outputs, labels)\n",
    "\n",
    "    # Backward pass and optimization\n",
    "    optimizer.zero_grad()\n",
    "    loss.backward()\n",
    "    optimizer.step()\n",
    "\n",
    "    # Print the loss every 100 epochs\n",
    "    if (epoch + 1) % 100 == 0:\n",
    "        print(f'Epoch [{epoch+1}/{num_epochs}], Loss: {loss.item():.4f}')"
   ]
  },
  {
   "cell_type": "markdown",
   "id": "75b840f4",
   "metadata": {},
   "source": [
    "Exercise 8: \n",
    "\n",
    "Implement a binary classification model using the Perceptron class in PyTorch for the logic OR. \n",
    "\n",
    "Your task is to create a Perceptron instance and train it using a proper  dataset and the binary cross-entropy loss with stochastic gradient descent optimizer. \n",
    "\n",
    "Here are the steps you can follow:\n",
    "\n",
    "Define a Perceptron class that inherits from torch.nn.Module and implements a binary classification model.\n",
    "\n",
    "Define a binary cross-entropy loss function using the torch.nn.BCEWithLogitsLoss module.\n",
    "\n",
    "Define a stochastic gradient descent optimizer using the torch.optim.SGD module.\n",
    "\n",
    "Train the Perceptron model on the training set using the binary cross-entropy loss and stochastic gradient descent optimizer.\n",
    "\n",
    "Evaluate the trained model compute the accuracy.\n"
   ]
  },
  {
   "cell_type": "code",
   "execution_count": 24,
   "id": "dc3c5d3e",
   "metadata": {},
   "outputs": [
    {
     "name": "stdout",
     "output_type": "stream",
     "text": [
      "tensor([0.6058], grad_fn=<SigmoidBackward0>)\n",
      "Epoch [100/1000], Loss: 0.4124\n",
      "Epoch [200/1000], Loss: 0.3255\n",
      "Epoch [300/1000], Loss: 0.2677\n",
      "Epoch [400/1000], Loss: 0.2268\n",
      "Epoch [500/1000], Loss: 0.1962\n",
      "Epoch [600/1000], Loss: 0.1726\n",
      "Epoch [700/1000], Loss: 0.1537\n",
      "Epoch [800/1000], Loss: 0.1384\n",
      "Epoch [900/1000], Loss: 0.1257\n",
      "Epoch [1000/1000], Loss: 0.1150\n"
     ]
    }
   ],
   "source": [
    "input_size = 2\n",
    "output_size = 1\n",
    "import torch\n",
    "import torch.nn as nn\n",
    "\n",
    "class Perceptron(torch.nn.Module):\n",
    "    def __init__(self, input_dim, output_dim):\n",
    "        super(Perceptron, self).__init__()\n",
    "        self.linear = torch.nn.Linear(input_dim, output_dim)\n",
    "        self.activation = torch.nn.Sigmoid()\n",
    "        \n",
    "    def forward(self, x):\n",
    "        x = self.linear(x)\n",
    "        x = self.activation(x)\n",
    "        return x\n",
    "    \n",
    "perceptron = Perceptron(input_size, output_size)\n",
    "x = torch.tensor([0.5, 0.2])\n",
    "y = perceptron(x)\n",
    "print(y)\n",
    "\n",
    "# Define the loss function and optimizer\n",
    "criterion = nn.BCELoss()  # Binary cross-entropy loss\n",
    "optimizer = torch.optim.SGD(perceptron.parameters(), lr=0.1)  # Stochastic gradient descent optimizer\n",
    "\n",
    "# Generate some random input data and labels\n",
    "input_data = torch.tensor([[0.1, 0.0], [0.0, 1.0], [1.0, 0.0], [1.0, 1.0]])\n",
    "labels = torch.tensor([[0.0], [1.0], [1.0], [1.0]])\n",
    "\n",
    "# Train the model\n",
    "num_epochs = 1000\n",
    "for epoch in range(num_epochs):\n",
    "    # Forward pass\n",
    "    outputs = perceptron(input_data)\n",
    "    loss = criterion(outputs, labels)\n",
    "\n",
    "    # Backward pass and optimization\n",
    "    optimizer.zero_grad()\n",
    "    loss.backward()\n",
    "    optimizer.step()\n",
    "\n",
    "    # Print the loss every 100 epochs\n",
    "    if (epoch + 1) % 100 == 0:\n",
    "        print(f'Epoch [{epoch+1}/{num_epochs}], Loss: {loss.item():.4f}')"
   ]
  },
  {
   "cell_type": "code",
   "execution_count": null,
   "id": "3d3a17fb-d5ea-4403-9f37-86cce678eb72",
   "metadata": {},
   "outputs": [],
   "source": []
  }
 ],
 "metadata": {
  "kernelspec": {
   "display_name": "Python 3 (ipykernel)",
   "language": "python",
   "name": "python3"
  },
  "language_info": {
   "codemirror_mode": {
    "name": "ipython",
    "version": 3
   },
   "file_extension": ".py",
   "mimetype": "text/x-python",
   "name": "python",
   "nbconvert_exporter": "python",
   "pygments_lexer": "ipython3",
   "version": "3.12.2"
  }
 },
 "nbformat": 4,
 "nbformat_minor": 5
}
