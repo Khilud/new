{
 "cells": [
  {
   "cell_type": "code",
   "execution_count": null,
   "id": "b88310a5-9f2b-43b8-a14f-3cdef1691265",
   "metadata": {},
   "outputs": [],
   "source": [
    "#Task 6 -- An application: Simulate an unfair probability spinner"
   ]
  },
  {
   "cell_type": "code",
   "execution_count": 35,
   "id": "38724dbc-7155-414b-905b-5d8098d715e1",
   "metadata": {},
   "outputs": [],
   "source": [
    "import random"
   ]
  },
  {
   "cell_type": "code",
   "execution_count": 38,
   "id": "f8bf7a2c-1e2d-41e5-97d6-d4fed81cc692",
   "metadata": {},
   "outputs": [],
   "source": [
    "def spinner(degreesDistribution):\n",
    "    total_degrees = sum(degreesDistribution)\n",
    "    rand_degrees = random.uniform(0, total_degrees)\n",
    "    cumulative_degrees = 0\n",
    "    for i, degrees in enumerate(degreesDistribution):\n",
    "        cumulative_degrees += degrees\n",
    "        if rand_degrees <= cumulative_degrees:\n",
    "            return i\n",
    "    # In case of rounding errors, return the last index\n",
    "    return len(degreesDistribution) - 1\n"
   ]
  },
  {
   "cell_type": "code",
   "execution_count": null,
   "id": "d87b85c6-2cbf-4819-9442-cd753d6e0ea6",
   "metadata": {},
   "outputs": [],
   "source": [
    "#Task 7 -- Determine some outcomes using Monte Carlo Simulations"
   ]
  },
  {
   "cell_type": "code",
   "execution_count": 2,
   "id": "9871d3bf-9747-414b-b266-14b3c140e8ee",
   "metadata": {},
   "outputs": [],
   "source": [
    "import random"
   ]
  },
  {
   "cell_type": "code",
   "execution_count": 39,
   "id": "47d842d9-d5b2-4189-9844-3e6176925680",
   "metadata": {},
   "outputs": [
    {
     "name": "stdout",
     "output_type": "stream",
     "text": [
      "Simulated probability: 0.263798\n",
      "Mathematically deduced probability: 0.264207719\n"
     ]
    }
   ],
   "source": [
    "def monte_carlo_simulation(num_balls, R, l, r):\n",
    "    num_inside_pipe = 0\n",
    "    for _ in range(num_balls):\n",
    "        # Generate random coordinates for the ball's center within the rectangular wall\n",
    "        x = random.uniform(-l/2, l/2)\n",
    "        y = random.uniform(-l/2, l/2)\n",
    "        \n",
    "        # Calculate the distance from the center of the ball to the center of the pipe\n",
    "        distance_to_pipe = (x**2 + y**2)**0.5\n",
    "        \n",
    "        # Check if the ball falls inside the pipe\n",
    "        if distance_to_pipe <= R - r:\n",
    "            num_inside_pipe += 1\n",
    "    \n",
    "    # Calculate the probability that a ball falls inside the pipe\n",
    "    probability_inside_pipe = num_inside_pipe / num_balls\n",
    "    return probability_inside_pipe\n",
    "\n",
    "# Parameters\n",
    "num_balls = 1000000\n",
    "R = 30\n",
    "l = 100\n",
    "r = 1\n",
    "\n",
    "# Perform Monte Carlo simulation\n",
    "probability_simulated = monte_carlo_simulation(num_balls, R, l, r)\n",
    "\n",
    "# Mathematically deduced probability\n",
    "area_pipe = 3.14159 * (R - r)**2  # Area of the pipe\n",
    "area_rectangular_wall = l**2  # Area of the rectangular wall\n",
    "probability_mathematical = area_pipe / area_rectangular_wall\n",
    "\n",
    "# Output the results\n",
    "print(\"Simulated probability:\", probability_simulated)\n",
    "print(\"Mathematically deduced probability:\", probability_mathematical)\n"
   ]
  },
  {
   "cell_type": "code",
   "execution_count": null,
   "id": "3f96733d-81da-45df-bf2e-46cba89aee55",
   "metadata": {},
   "outputs": [],
   "source": []
  }
 ],
 "metadata": {
  "kernelspec": {
   "display_name": "Python 3 (ipykernel)",
   "language": "python",
   "name": "python3"
  },
  "language_info": {
   "codemirror_mode": {
    "name": "ipython",
    "version": 3
   },
   "file_extension": ".py",
   "mimetype": "text/x-python",
   "name": "python",
   "nbconvert_exporter": "python",
   "pygments_lexer": "ipython3",
   "version": "3.12.2"
  }
 },
 "nbformat": 4,
 "nbformat_minor": 5
}
